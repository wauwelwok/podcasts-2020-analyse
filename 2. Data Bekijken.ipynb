{
 "cells": [
  {
   "cell_type": "markdown",
   "id": "1acde552",
   "metadata": {},
   "source": [
    "# Data exploration\n",
    "We gaan kijken naar outliers en ontbrekende data voor de podcast database. Aan de hand van dit document laat ik zien hoe ik tot de filtering / data manipulatie in de main notebook ben gekomen."
   ]
  },
  {
   "cell_type": "code",
   "execution_count": 1,
   "id": "48bcda82",
   "metadata": {},
   "outputs": [
    {
     "name": "stdout",
     "output_type": "stream",
     "text": [
      "Connection established\n"
     ]
    }
   ],
   "source": [
    "import pandas as pd\n",
    "import seaborn as sns\n",
    "from sqlalchemy import create_engine\n",
    "\n",
    "\n",
    "db_connection_str = 'mysql+pymysql://root:@localhost/podcast_feeds'\n",
    "db_connection = create_engine(db_connection_str)\n",
    "print(\"Connection established\")"
   ]
  },
  {
   "cell_type": "markdown",
   "id": "be267e52",
   "metadata": {},
   "source": [
    "De kolommen van deze database die nodig zijn om mijn vragen mee te beantwoorden zijn: oldestItemPubdate, newestItemPubdate, episodeCount, language en host"
   ]
  },
  {
   "cell_type": "markdown",
   "id": "253444de",
   "metadata": {},
   "source": [
    "### oldestItemPubdate \n",
    "Zijn er null values?\n"
   ]
  },
  {
   "cell_type": "code",
   "execution_count": 2,
   "id": "bcd89ab2",
   "metadata": {},
   "outputs": [
    {
     "data": {
      "text/html": [
       "<div>\n",
       "<style scoped>\n",
       "    .dataframe tbody tr th:only-of-type {\n",
       "        vertical-align: middle;\n",
       "    }\n",
       "\n",
       "    .dataframe tbody tr th {\n",
       "        vertical-align: top;\n",
       "    }\n",
       "\n",
       "    .dataframe thead th {\n",
       "        text-align: right;\n",
       "    }\n",
       "</style>\n",
       "<table border=\"1\" class=\"dataframe\">\n",
       "  <thead>\n",
       "    <tr style=\"text-align: right;\">\n",
       "      <th></th>\n",
       "      <th>Nullvalues_oldestItem</th>\n",
       "    </tr>\n",
       "  </thead>\n",
       "  <tbody>\n",
       "    <tr>\n",
       "      <th>0</th>\n",
       "      <td>0.0</td>\n",
       "    </tr>\n",
       "  </tbody>\n",
       "</table>\n",
       "</div>"
      ],
      "text/plain": [
       "   Nullvalues_oldestItem\n",
       "0                    0.0"
      ]
     },
     "execution_count": 2,
     "metadata": {},
     "output_type": "execute_result"
    }
   ],
   "source": [
    "query = '''\n",
    "    SELECT SUM(CASE WHEN `oldestItemPubdate` is Null THEN 1 ELSE 0 END) \n",
    "        AS Nullvalues_oldestItem\n",
    "    FROM `podcasts`\n",
    "    WHERE from_unixtime(oldestItemPubdate, '%%Y') BETWEEN 2020 AND 2020;\n",
    "'''\n",
    "pd.read_sql(query, con=db_connection)"
   ]
  },
  {
   "cell_type": "markdown",
   "id": "a0b89389",
   "metadata": {},
   "source": [
    "Welke WHERE query kan gebruikt worden om alle podcasts die in 2020 gemaakt zijn toe te voegen?"
   ]
  },
  {
   "cell_type": "code",
   "execution_count": 4,
   "id": "3be8642d",
   "metadata": {},
   "outputs": [
    {
     "name": "stdout",
     "output_type": "stream",
     "text": [
      "   MIN(oldestItemPubdate)           converted\n",
      "0              1577833200 2019-12-31 23:00:00\n",
      "   MAX(oldestItemPubdate)           converted\n",
      "0              1609455589 2020-12-31 22:59:49\n"
     ]
    }
   ],
   "source": [
    "query = '''\n",
    "    SELECT MIN(oldestItemPubdate)\n",
    "    FROM `podcasts`\n",
    "    WHERE from_unixtime(`oldestItemPubdate`, '%%Y') BETWEEN 2020 AND 2020; \n",
    "'''\n",
    "podcasts_df = pd.read_sql(query, con=db_connection)\n",
    "podcasts_df[\"converted\"] = pd.to_datetime(podcasts_df[\"MIN(oldestItemPubdate)\"], unit=\"s\")\n",
    "print(podcasts_df)\n",
    "\n",
    "\n",
    "query = '''\n",
    "    SELECT MAX(oldestItemPubdate)\n",
    "    FROM `podcasts`\n",
    "    WHERE from_unixtime(`oldestItemPubdate`, '%%Y') BETWEEN 2020 AND 2020;\n",
    "'''\n",
    "podcasts_df = pd.read_sql(query, con=db_connection)\n",
    "podcasts_df[\"converted\"] = pd.to_datetime(podcasts_df[\"MAX(oldestItemPubdate)\"], unit=\"s\")\n",
    "print(podcasts_df)"
   ]
  },
  {
   "cell_type": "markdown",
   "id": "8729c4b6",
   "metadata": {},
   "source": [
    "Goed genoeg!"
   ]
  },
  {
   "cell_type": "markdown",
   "id": "593c1bf1",
   "metadata": {},
   "source": [
    "### newestItemPubdate\n",
    "Zijn er null values?\n"
   ]
  },
  {
   "cell_type": "code",
   "execution_count": 5,
   "id": "384cf545",
   "metadata": {},
   "outputs": [
    {
     "data": {
      "text/html": [
       "<div>\n",
       "<style scoped>\n",
       "    .dataframe tbody tr th:only-of-type {\n",
       "        vertical-align: middle;\n",
       "    }\n",
       "\n",
       "    .dataframe tbody tr th {\n",
       "        vertical-align: top;\n",
       "    }\n",
       "\n",
       "    .dataframe thead th {\n",
       "        text-align: right;\n",
       "    }\n",
       "</style>\n",
       "<table border=\"1\" class=\"dataframe\">\n",
       "  <thead>\n",
       "    <tr style=\"text-align: right;\">\n",
       "      <th></th>\n",
       "      <th>Nullvalues_oldestItem</th>\n",
       "    </tr>\n",
       "  </thead>\n",
       "  <tbody>\n",
       "    <tr>\n",
       "      <th>0</th>\n",
       "      <td>0.0</td>\n",
       "    </tr>\n",
       "  </tbody>\n",
       "</table>\n",
       "</div>"
      ],
      "text/plain": [
       "   Nullvalues_oldestItem\n",
       "0                    0.0"
      ]
     },
     "execution_count": 5,
     "metadata": {},
     "output_type": "execute_result"
    }
   ],
   "source": [
    "query = '''\n",
    "    SELECT SUM(CASE WHEN `oldestItemPubdate` is Null THEN 1 ELSE 0 END) \n",
    "        AS Nullvalues_oldestItem\n",
    "    FROM `podcasts`\n",
    "    WHERE from_unixtime(`oldestItemPubdate`, '%%Y') BETWEEN 2020 AND 2020;\n",
    "'''\n",
    "pd.read_sql(query, con=db_connection)"
   ]
  },
  {
   "cell_type": "markdown",
   "id": "fe205320",
   "metadata": {},
   "source": [
    "Zijn er podcasts waarbij de timedelta newest - oldest negatief is, oftewel, waar de datum voor newest ouder is dan van oldest?"
   ]
  },
  {
   "cell_type": "code",
   "execution_count": 6,
   "id": "5dfeabc3",
   "metadata": {},
   "outputs": [
    {
     "data": {
      "text/html": [
       "<div>\n",
       "<style scoped>\n",
       "    .dataframe tbody tr th:only-of-type {\n",
       "        vertical-align: middle;\n",
       "    }\n",
       "\n",
       "    .dataframe tbody tr th {\n",
       "        vertical-align: top;\n",
       "    }\n",
       "\n",
       "    .dataframe thead th {\n",
       "        text-align: right;\n",
       "    }\n",
       "</style>\n",
       "<table border=\"1\" class=\"dataframe\">\n",
       "  <thead>\n",
       "    <tr style=\"text-align: right;\">\n",
       "      <th></th>\n",
       "      <th>timedelta_negatief</th>\n",
       "      <th>timedelta_positief</th>\n",
       "    </tr>\n",
       "  </thead>\n",
       "  <tbody>\n",
       "    <tr>\n",
       "      <th>0</th>\n",
       "      <td>None</td>\n",
       "      <td>1682168.0</td>\n",
       "    </tr>\n",
       "  </tbody>\n",
       "</table>\n",
       "</div>"
      ],
      "text/plain": [
       "  timedelta_negatief  timedelta_positief\n",
       "0               None           1682168.0"
      ]
     },
     "execution_count": 6,
     "metadata": {},
     "output_type": "execute_result"
    }
   ],
   "source": [
    "query = '''\n",
    "    SELECT SUM(CASE WHEN(newestItemPubdate - oldestItemPubdate < 0) THEN 1 END)\n",
    "            AS timedelta_negatief,\n",
    "        SUM(CASE WHEN(newestItemPubdate - oldestItemPubdate >= 0) THEN 1 END)\n",
    "            AS timedelta_positief\n",
    "            \n",
    "    FROM `podcasts`\n",
    "    WHERE from_unixtime(`oldestItemPubdate`, '%%Y') BETWEEN 2020 AND 2020;\n",
    "'''\n",
    "pd.read_sql(query, con=db_connection)"
   ]
  },
  {
   "cell_type": "markdown",
   "id": "c8d6c5bd",
   "metadata": {},
   "source": [
    "Alle rijen in kolommen oldestItemPubdate en newestItemPubdate zijn valide."
   ]
  },
  {
   "cell_type": "markdown",
   "id": "8be4a65c",
   "metadata": {},
   "source": [
    "### episodeCount\n",
    "Zijn er podcasts met een episodecount < 0?"
   ]
  },
  {
   "cell_type": "code",
   "execution_count": 7,
   "id": "5a637104",
   "metadata": {},
   "outputs": [
    {
     "data": {
      "text/html": [
       "<div>\n",
       "<style scoped>\n",
       "    .dataframe tbody tr th:only-of-type {\n",
       "        vertical-align: middle;\n",
       "    }\n",
       "\n",
       "    .dataframe tbody tr th {\n",
       "        vertical-align: top;\n",
       "    }\n",
       "\n",
       "    .dataframe thead th {\n",
       "        text-align: right;\n",
       "    }\n",
       "</style>\n",
       "<table border=\"1\" class=\"dataframe\">\n",
       "  <thead>\n",
       "    <tr style=\"text-align: right;\">\n",
       "      <th></th>\n",
       "      <th>EpisodeCount_0</th>\n",
       "      <th>EpisodeCount_1</th>\n",
       "      <th>EpisodeCount_rest</th>\n",
       "    </tr>\n",
       "  </thead>\n",
       "  <tbody>\n",
       "    <tr>\n",
       "      <th>0</th>\n",
       "      <td>5562.0</td>\n",
       "      <td>697482.0</td>\n",
       "      <td>979124.0</td>\n",
       "    </tr>\n",
       "  </tbody>\n",
       "</table>\n",
       "</div>"
      ],
      "text/plain": [
       "   EpisodeCount_0  EpisodeCount_1  EpisodeCount_rest\n",
       "0          5562.0        697482.0           979124.0"
      ]
     },
     "execution_count": 7,
     "metadata": {},
     "output_type": "execute_result"
    }
   ],
   "source": [
    "query = '''\n",
    "    SELECT SUM(CASE WHEN `episodeCount` = 0 THEN 1 END)\n",
    "            AS EpisodeCount_0,\n",
    "        SUM(CASE WHEN `episodeCount` = 1 THEN 1 END)\n",
    "            AS EpisodeCount_1,\n",
    "        SUM(CASE WHEN `episodeCount` > 1 THEN 1 END)\n",
    "            AS EpisodeCount_rest\n",
    "    \n",
    "    FROM `podcasts`\n",
    "    WHERE from_unixtime(`oldestItemPubdate`, '%%Y') BETWEEN 2020 AND 2020;\n",
    "'''\n",
    "pd.read_sql(query, con=db_connection)"
   ]
  },
  {
   "cell_type": "markdown",
   "id": "074a0f6a",
   "metadata": {},
   "source": [
    "Er zijn dus 5.6k podcasts die geen episodeCount hebben, en dus zowieso weggehaald moeten worden via <code>WHERE `episodeCount` > 0</code>. Het is ook opvallend dat bijna 700k podcasten maar 1 aflevering hebben.\n",
    "\n",
    "De SQL query is dus: <code>\n",
    "query = '''\n",
    "    SELECT *\n",
    "    FROM `podcasts`\n",
    "    WHERE from_unixtime(`oldestItemPubdate`, '%%Y') BETWEEN 2020 AND 2020\n",
    "        AND `episodeCount` > 0 \n",
    "'''\n",
    "</code>"
   ]
  },
  {
   "cell_type": "markdown",
   "id": "64030eae",
   "metadata": {},
   "source": [
    "### language\n",
    "Zijn er podcasts zonder valide value in kolom language? "
   ]
  },
  {
   "cell_type": "code",
   "execution_count": 8,
   "id": "1664251f",
   "metadata": {},
   "outputs": [
    {
     "data": {
      "text/html": [
       "<div>\n",
       "<style scoped>\n",
       "    .dataframe tbody tr th:only-of-type {\n",
       "        vertical-align: middle;\n",
       "    }\n",
       "\n",
       "    .dataframe tbody tr th {\n",
       "        vertical-align: top;\n",
       "    }\n",
       "\n",
       "    .dataframe thead th {\n",
       "        text-align: right;\n",
       "    }\n",
       "</style>\n",
       "<table border=\"1\" class=\"dataframe\">\n",
       "  <thead>\n",
       "    <tr style=\"text-align: right;\">\n",
       "      <th></th>\n",
       "      <th>language</th>\n",
       "      <th>count</th>\n",
       "    </tr>\n",
       "  </thead>\n",
       "  <tbody>\n",
       "    <tr>\n",
       "      <th>0</th>\n",
       "      <td></td>\n",
       "      <td>694</td>\n",
       "    </tr>\n",
       "    <tr>\n",
       "      <th>1</th>\n",
       "      <td>en</td>\n",
       "      <td>2</td>\n",
       "    </tr>\n",
       "    <tr>\n",
       "      <th>2</th>\n",
       "      <td>#</td>\n",
       "      <td>5</td>\n",
       "    </tr>\n",
       "    <tr>\n",
       "      <th>3</th>\n",
       "      <td>aa</td>\n",
       "      <td>54</td>\n",
       "    </tr>\n",
       "    <tr>\n",
       "      <th>4</th>\n",
       "      <td>ab</td>\n",
       "      <td>57</td>\n",
       "    </tr>\n",
       "  </tbody>\n",
       "</table>\n",
       "</div>"
      ],
      "text/plain": [
       "  language  count\n",
       "0             694\n",
       "1      en       2\n",
       "2        #      5\n",
       "3       aa     54\n",
       "4       ab     57"
      ]
     },
     "execution_count": 8,
     "metadata": {},
     "output_type": "execute_result"
    }
   ],
   "source": [
    "query = '''\n",
    "    SELECT `language`, COUNT(*) AS `count`\n",
    "    FROM `podcasts` \n",
    "    WHERE from_unixtime(oldestItemPubdate, '%%Y') BETWEEN 2020 AND 2020\n",
    "        AND `episodeCount` > 0 \n",
    "    GROUP BY `language`\n",
    "'''\n",
    "podcasts_df = pd.read_sql(query, con=db_connection)\n",
    "podcasts_df.head()"
   ]
  },
  {
   "cell_type": "markdown",
   "id": "234f7c04",
   "metadata": {},
   "source": [
    "De rijen die er uitgehaald moeten worden zijn <code>podcasts_df[\"language\"] = \"\" </code>en <code>podcasts_df[\"language\"] = #</code>. Verder moet de data getransformeerd worden, zodat de categorieën kleiner worden."
   ]
  },
  {
   "cell_type": "markdown",
   "id": "3507ee19",
   "metadata": {},
   "source": [
    "### host\n",
    "Zijn er podcasts zonder value in de host kolom?"
   ]
  },
  {
   "cell_type": "code",
   "execution_count": 9,
   "id": "478891b9",
   "metadata": {},
   "outputs": [
    {
     "data": {
      "text/html": [
       "<div>\n",
       "<style scoped>\n",
       "    .dataframe tbody tr th:only-of-type {\n",
       "        vertical-align: middle;\n",
       "    }\n",
       "\n",
       "    .dataframe tbody tr th {\n",
       "        vertical-align: top;\n",
       "    }\n",
       "\n",
       "    .dataframe thead th {\n",
       "        text-align: right;\n",
       "    }\n",
       "</style>\n",
       "<table border=\"1\" class=\"dataframe\">\n",
       "  <thead>\n",
       "    <tr style=\"text-align: right;\">\n",
       "      <th></th>\n",
       "      <th>host</th>\n",
       "      <th>count</th>\n",
       "    </tr>\n",
       "  </thead>\n",
       "  <tbody>\n",
       "    <tr>\n",
       "      <th>0</th>\n",
       "      <td>000webhostapp.com</td>\n",
       "      <td>1</td>\n",
       "    </tr>\n",
       "    <tr>\n",
       "      <th>1</th>\n",
       "      <td>1-page.biz</td>\n",
       "      <td>1</td>\n",
       "    </tr>\n",
       "    <tr>\n",
       "      <th>2</th>\n",
       "      <td>100-sekunden.ch</td>\n",
       "      <td>1</td>\n",
       "    </tr>\n",
       "    <tr>\n",
       "      <th>3</th>\n",
       "      <td>1000-cupsoftea.com</td>\n",
       "      <td>1</td>\n",
       "    </tr>\n",
       "    <tr>\n",
       "      <th>4</th>\n",
       "      <td>1001moviesandbeyond.com</td>\n",
       "      <td>1</td>\n",
       "    </tr>\n",
       "  </tbody>\n",
       "</table>\n",
       "</div>"
      ],
      "text/plain": [
       "                      host  count\n",
       "0        000webhostapp.com      1\n",
       "1               1-page.biz      1\n",
       "2          100-sekunden.ch      1\n",
       "3       1000-cupsoftea.com      1\n",
       "4  1001moviesandbeyond.com      1"
      ]
     },
     "execution_count": 9,
     "metadata": {},
     "output_type": "execute_result"
    }
   ],
   "source": [
    "query = '''\n",
    "    SELECT `host`, COUNT(*) AS `count`\n",
    "    FROM `podcasts` \n",
    "    WHERE from_unixtime(oldestItemPubdate, '%%Y') BETWEEN 2020 AND 2020\n",
    "        AND `episodeCount` > 0 \n",
    "    GROUP BY `host`\n",
    "'''\n",
    "podcasts_df = pd.read_sql(query, con=db_connection)\n",
    "podcasts_df.head()"
   ]
  },
  {
   "cell_type": "markdown",
   "id": "d392daba",
   "metadata": {},
   "source": [
    "Nee, iedere podcast heeft een value. Maar er zijn heel veel hosts met maar 1 entry."
   ]
  },
  {
   "cell_type": "code",
   "execution_count": null,
   "id": "706364e2",
   "metadata": {},
   "outputs": [],
   "source": []
  }
 ],
 "metadata": {
  "kernelspec": {
   "display_name": "Python 3 (ipykernel)",
   "language": "python",
   "name": "python3"
  },
  "language_info": {
   "codemirror_mode": {
    "name": "ipython",
    "version": 3
   },
   "file_extension": ".py",
   "mimetype": "text/x-python",
   "name": "python",
   "nbconvert_exporter": "python",
   "pygments_lexer": "ipython3",
   "version": "3.9.4"
  }
 },
 "nbformat": 4,
 "nbformat_minor": 5
}
