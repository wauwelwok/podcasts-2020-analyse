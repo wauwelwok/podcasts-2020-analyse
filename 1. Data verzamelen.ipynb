{
 "cells": [
  {
   "cell_type": "markdown",
   "id": "54ae43b3",
   "metadata": {},
   "source": [
    "# Data verzamelen\n",
    "Ik heb 2 databases met data. Een is een sqlite3 bestand van [Podcast Index](https://podcastindex.org/). De ander is een het resultaat van het scrapen van de pagina's van de categorieën op [iTunes](https://podcasts.apple.com/us/genre/podcasts/id26) "
   ]
  },
  {
   "cell_type": "markdown",
   "id": "09bfa3e8",
   "metadata": {},
   "source": [
    "## SQL manipulatie\n",
    "Hieronder de code gebruikt om het SQL bestand aan te passen naar mysql\n",
    "\n",
    "sqlite -> mysql via [sqlite3mysql](https://pypi.org/project/sqlite3-to-mysql/)"
   ]
  },
  {
   "cell_type": "code",
   "execution_count": null,
   "id": "4b34386f",
   "metadata": {},
   "outputs": [],
   "source": [
    "pip install qlite3-to-mysql\n",
    "# > sqlite3mysql -f C:\\Users\\Jeanny\\Projects\\bit-academy\\final_project\\podcastindex_feeds.db -d podcast_feeds -u root    "
   ]
  },
  {
   "cell_type": "markdown",
   "id": "3d3df731",
   "metadata": {},
   "source": [
    "Voeg een index toe aan kolom itunesId om <code>JOIN</code> met table <code>categorieën</code> sneller te maken"
   ]
  },
  {
   "cell_type": "code",
   "execution_count": null,
   "id": "0c6ffb78",
   "metadata": {},
   "outputs": [],
   "source": [
    "add_fk = '''\n",
    "    ALTER TABLE podcasts ADD FORGEIN KEY (itunesId);\n",
    "'''"
   ]
  },
  {
   "cell_type": "markdown",
   "id": "6304cd10",
   "metadata": {},
   "source": [
    "## Web scraping\n",
    "Hieronder de uitleg van de helpers om een database van podcast categorieën te maken. \n",
    "\n",
    "1. Nieuwe tabel categorieën maken\n",
    "\n",
    "Als eerste kopieerde ik de kolom itunesId van table podcasts. Dit probeerde ik eerst via SQL, maar ik kreeg telkens timeouts. De hack: sql -> csv -> sql. LOAD DATA is veel efficiënter dan kopiëren."
   ]
  },
  {
   "cell_type": "code",
   "execution_count": null,
   "id": "486acb6a",
   "metadata": {},
   "outputs": [],
   "source": [
    "sql_to_csv = '''\n",
    "    USE DATABASE podcast_feeds;\n",
    "    SELECT DISTINCT itunesId FROM podcasts WHERE itunesId > 0\n",
    "    INTO OUTFILE \"C:\\\\Users\\\\Jeanny\\\\Projects\\\\bit-academy\\\\final_project\\\\itunedId.csv\"\n",
    "    FIELDS ENCLOSED BY '\"'\n",
    "    TERMINATED BY ';'\n",
    "    ESCAPED BY '\"'\n",
    "    LINES TERMINATED BY '\\r\\n';\n",
    "'''\n",
    "\n",
    "new_table = '''\n",
    "    CREATE TABLE `categories` (`itunesId` INT(11));\n",
    "    ALTER TABLE `categories`\n",
    "    ADD PRIMARY KEY (`itunesId`);\n",
    "'''"
   ]
  },
  {
   "cell_type": "markdown",
   "id": "95d32aa8",
   "metadata": {},
   "source": [
    "Deze data kan dan weer in de nieuwe tabel geimporteerd worden via:\n",
    "    phpMyAdmin -> import CSV using LOAD DATA, seperaed by \",\", column name= itunesID.\n",
    "    \n",
    "iTunes heeft 110(!) categorieën, da's iets te veel typewerk. Hiervoor heb ik <code>helpers/create_categories_table.py</code> gebruikt. Dit programma maakt een lijst van alle categorieën op de itunes podcast pagina, en voegt voor iedere categorie een kolom toe:"
   ]
  },
  {
   "cell_type": "code",
   "execution_count": null,
   "id": "ce0ad297",
   "metadata": {},
   "outputs": [],
   "source": [
    "new_column = '''\n",
    "    f\"ALTER TABLE `categories` ADD COLUMN `{category}` BOOLEAN DEFAULT false;\"\n",
    "'''"
   ]
  },
  {
   "cell_type": "markdown",
   "id": "d990730e",
   "metadata": {},
   "source": [
    "De kolommen hebben allemaal een boolean value. Of de podcast heeft de categorie wel (True = 1) of niet (False = 0). Er wordt nu False neergezet, wat na het scrapen geupdate kan worden.\n",
    "\n",
    "2. Scrapen van categorieën\n",
    "\n",
    "Zie <code>helpers/itunes_crawler.py</code>. De logica is als volgt: \n",
    "- Maak een lijst van alle categorieën\n",
    "- Voor elke categorie:\n",
    "    - Crawl alle pagina's van categorie. (A-Z, meerdere pagina's per letter)\n",
    "    - Voor iedere link op een pagina, voeg de itunesId toe aan een lijst.\n",
    "    - Na het crawlen is er een lijst met alle itunesID voor een categorie\n",
    "    - Verbind met mySQL, update TABLE voor de categorie, waar itunesID table = itunesID lijst False -> True"
   ]
  },
  {
   "cell_type": "code",
   "execution_count": null,
   "id": "2103b8d6",
   "metadata": {},
   "outputs": [],
   "source": []
  }
 ],
 "metadata": {
  "kernelspec": {
   "display_name": "Python 3 (ipykernel)",
   "language": "python",
   "name": "python3"
  },
  "language_info": {
   "codemirror_mode": {
    "name": "ipython",
    "version": 3
   },
   "file_extension": ".py",
   "mimetype": "text/x-python",
   "name": "python",
   "nbconvert_exporter": "python",
   "pygments_lexer": "ipython3",
   "version": "3.9.4"
  }
 },
 "nbformat": 4,
 "nbformat_minor": 5
}
